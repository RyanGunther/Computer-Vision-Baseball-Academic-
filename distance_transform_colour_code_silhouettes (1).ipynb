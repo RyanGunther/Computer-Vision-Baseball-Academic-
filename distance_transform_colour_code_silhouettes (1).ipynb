{
  "nbformat": 4,
  "nbformat_minor": 0,
  "metadata": {
    "colab": {
      "provenance": []
    },
    "kernelspec": {
      "name": "python3",
      "display_name": "Python 3"
    },
    "language_info": {
      "name": "python"
    }
  },
  "cells": [
    {
      "cell_type": "code",
      "source": [
        "# if viewing to learn. you will want an existing zip folder on .png masks. Look at my other work for help on this!\n",
        "!unzip -o masks_donut.zip -d masks_donut"
      ],
      "metadata": {
        "collapsed": true,
        "id": "HA5NU2z2KIfg"
      },
      "execution_count": null,
      "outputs": []
    },
    {
      "cell_type": "code",
      "source": [
        "import cv2\n",
        "import numpy as np\n",
        "import matplotlib.pyplot as plt\n",
        "import os\n",
        "\n",
        "# input and output\n",
        "mask_dir = \"/content/masks_donut/masks_donut\"\n",
        "out_dir  = \"masks_donut_gradient\"\n",
        "os.makedirs(out_dir, exist_ok=True)\n",
        "\n",
        "# loop over masks ensuring each is a png\n",
        "for fname in sorted(os.listdir(mask_dir)):\n",
        "    if not fname.endswith(\".png\"):\n",
        "        continue\n",
        "\n",
        "    path = os.path.join(mask_dir, fname)\n",
        "    # read as grayscale\n",
        "    mask = cv2.imread(path, cv2.IMREAD_GRAYSCALE)\n",
        "\n",
        "    # push anything below 127 pixel value to 0, anything above 127 to 255, now binary\n",
        "    _, mask_bin = cv2.threshold(mask, 127, 255, cv2.THRESH_BINARY)\n",
        "\n",
        "    # performing a complete dist transform (0 at end means check everywhere in every image for nearest batter edge)\n",
        "    # typically this would be 3 or 5 i.e. \"check a 5x5 box to find the nearest edge\" but since colab has computational power I'll run it through everything\n",
        "    dist = cv2.distanceTransform(mask_bin, cv2.DIST_L2, 0)\n",
        "\n",
        "    # wanted a slightly more gradual gradient\n",
        "    dist_norm = np.power(dist, 0.5)\n",
        "\n",
        "    # map values from min-max to 0-255\n",
        "    dist_vis = cv2.normalize(dist_norm, None, 0, 255, cv2.NORM_MINMAX).astype(np.uint8)\n",
        "\n",
        "    # using magma color code since I like the dark edges against white background\n",
        "    colored = cv2.applyColorMap(dist_vis, cv2.COLORMAP_MAGMA)\n",
        "    # set background to white\n",
        "    colored[mask_bin == 0] = (255, 255, 255)\n",
        "\n",
        "    out_path = os.path.join(out_dir, fname.replace(\".png\", \"_grad.png\"))\n",
        "    cv2.imwrite(out_path, colored)\n"
      ],
      "metadata": {
        "id": "rGgfLnrLGnck"
      },
      "execution_count": null,
      "outputs": []
    }
  ]
}