{
  "nbformat": 4,
  "nbformat_minor": 0,
  "metadata": {
    "colab": {
      "provenance": [],
      "gpuType": "T4",
      "authorship_tag": "ABX9TyPuow0smXoRaaStwUgeL1eR"
    },
    "kernelspec": {
      "name": "python3",
      "display_name": "Python 3"
    },
    "language_info": {
      "name": "python"
    },
    "accelerator": "GPU"
  },
  "cells": [
    {
      "cell_type": "code",
      "source": [
        "# main training code for my video segmentation project, that will eventually lean on \"Human Motion Recognition\n",
        "# Using Isomap and Dynamic Time Warping\" by Blackburn and Ribeiro to use the silhouettes/masks for dimensionality reduction purposes in biomechanics\n",
        "\n",
        "# will likely be updated further for iterative training, and possibly 3d capability\n",
        "\n",
        "# if interested in preparing your own project of this type, you will need to build a dataset\n",
        "# my recommendation for building an image or video dataset is cvat.ai, where you can manually draw polygons and then download the masks\n",
        "# use a different script in this same Github repo to convert your masks to .txt coordinate files and train from those + the natural PNGs\n",
        "\n",
        "# this youtube creator has an excellent tutorial on this and all things computer vision:\n",
        "# https://www.youtube.com/watch?v=aVKGjzAUHz0&list=PLb49csYFtO2HAdNGChGzohFJGnJnXBOqd\n",
        "\n",
        "# Ryan Gunther\n",
        "# Brock University MSc in Statistics\n",
        "# written in 2025\n",
        "# my bluesky account: https://bsky.app/profile/ryangunther1.bsky.social\n",
        "\n",
        "# seeking jobs in data science and professional baseball"
      ],
      "metadata": {
        "id": "NfOzz0tdhkE1"
      },
      "execution_count": null,
      "outputs": []
    },
    {
      "cell_type": "code",
      "source": [
        "from google.colab import drive\n",
        "drive.mount('/content/drive')"
      ],
      "metadata": {
        "id": "MiZ8hNbfe7FC",
        "collapsed": true
      },
      "execution_count": null,
      "outputs": []
    },
    {
      "cell_type": "code",
      "source": [
        "# create data.yaml file for yolo to read and understand the structure of my folders\n",
        "# should output roughly a 70-20-10 training / val / testing split\n",
        "import os, glob\n",
        "\n",
        "\n",
        "DATASET_DIR = \"/content/drive/MyDrive/BaseballCV/Segmentation_training_2\"\n",
        "DATA = os.path.join(DATASET_DIR, \"data.yaml\")\n",
        "\n",
        "\n",
        "assert os.path.exists(DATA), f\"data.yaml not found at {DATA}\"\n",
        "\n",
        "print(\"Using dataset:\", DATASET_DIR)\n",
        "\n",
        "# quick counts of images/labels per split\n",
        "for split in [\"train\",\"val\",\"test\"]:\n",
        "    img_count = len(glob.glob(os.path.join(DATASET_DIR, \"images\", split, \"*.png\")))\n",
        "    lbl_count = len(glob.glob(os.path.join(DATASET_DIR, \"labels\", split, \"*.txt\")))\n",
        "    print(f\"{split:5s} images={img_count:3d}  labels={lbl_count:3d}\")"
      ],
      "metadata": {
        "id": "zV1NuIG4kClx"
      },
      "execution_count": null,
      "outputs": []
    },
    {
      "cell_type": "code",
      "source": [
        "# train! (use Colab and free GPU access, or 150 epochs will never end)\n",
        "!pip -q install ultralytics\n",
        "\n",
        "from ultralytics import YOLO\n",
        "import torch, os\n",
        "# directory for my dataset:\n",
        "DATASET_DIR = \"/content/drive/MyDrive/BaseballCV/Segmentation_training_2\"\n",
        "\n",
        "# referencing the above data file\n",
        "fixed_yaml = f\"\"\"path: {DATASET_DIR}\n",
        "train: images/train\n",
        "val: images/val\n",
        "test: images/test\n",
        "names:\n",
        "  0: hitter\n",
        "\"\"\"\n",
        "\n",
        "with open(\"/content/data_fixed.yaml\", \"w\") as f:\n",
        "    f.write(fixed_yaml)\n",
        "\n",
        "from ultralytics import YOLO\n",
        "model = YOLO(\"yolov8n-seg.pt\")\n",
        "model.train(\n",
        "    data=\"/content/data_fixed.yaml\",\n",
        "    imgsz=960, # bigger seems to be better generally, but also would take more time to train\n",
        "    epochs=150,\n",
        "    batch=16,\n",
        "    patience=25, # this is basically saying \"if there's no improvement for 25 straight epochs, kill the training early\"\n",
        "    pretrained=True,\n",
        "    device=0,\n",
        "    project=\"/content/drive/MyDrive/yolo_runs\",\n",
        "    name=\"hitter_seg\"\n",
        ")\n"
      ],
      "metadata": {
        "collapsed": true,
        "id": "WNyhI9m13-po"
      },
      "execution_count": null,
      "outputs": []
    },
    {
      "cell_type": "code",
      "source": [
        "# testing on unseen video footage\n",
        "\n",
        "from ultralytics import YOLO\n",
        "model = YOLO(\"/content/drive/MyDrive/yolo_runs/hitter_seg2/weights/best.pt\")\n",
        "\n",
        "model.predict(\n",
        "    source=\"/content/bogaerts_testing_recode.mp4\",\n",
        "    imgsz=960,\n",
        "    conf=0.5,       # baseline confidence required to identify a player\n",
        "    iou=0.6,\n",
        "    augment=True,\n",
        "    save=True, save_txt=True, device=0, max_det=5\n",
        ")"
      ],
      "metadata": {
        "collapsed": true,
        "id": "qIpKH-mZAerA"
      },
      "execution_count": null,
      "outputs": []
    },
    {
      "cell_type": "code",
      "source": [
        "# check if the video can be read properly - I had some issues with incorrect .mp4 types\n",
        "# will read False if video is not being read correctly\n",
        "import cv2\n",
        "cap = cv2.VideoCapture(\"/content/bogaerts_testing_recode.mp4\")\n",
        "ok, frame = cap.read()\n",
        "print(\"Frame read:\", ok, \"shape:\" if ok else \"\", None if not ok else frame.shape)\n",
        "cap.release()"
      ],
      "metadata": {
        "id": "wN1zw0gwCojg"
      },
      "execution_count": null,
      "outputs": []
    },
    {
      "cell_type": "code",
      "source": [
        "# not necessarily required every time, but if above reads False, this will convert to a suitable .mp4 type if video is not working properly\n",
        "!ffmpeg -y -i \"/content/drive/MyDrive/BaseballCV/bogaerts_testing_clip.mp4\" \\\n",
        "  -c:v libx264 -preset fast -crf 20 -c:a aac \\\n",
        "  \"/content/bogaerts_testing_recode.mp4\""
      ],
      "metadata": {
        "collapsed": true,
        "id": "FULezAfBDkJg"
      },
      "execution_count": null,
      "outputs": []
    },
    {
      "cell_type": "code",
      "source": [
        "# not necessary but I used this to grab a 10fps sample of new video to throw it into my training set. Hence the first testing run I did was on a 20 annotated/ 100 unseen frames video of Bogaerts\n",
        "# sample 10 fps to train quickly (used this to grab a random sample of frames of the first bogaerts video)\n",
        "# eventually tested on completely unseen\n",
        "\n",
        "!mkdir -p /content/new_swing_frames\n",
        "!ffmpeg -y -i /content/bogaerts_recode.mp4 -vf \"fps=10\" /content/new_swing_frames/%06d.png"
      ],
      "metadata": {
        "collapsed": true,
        "id": "KMp1MJyjIvOv"
      },
      "execution_count": null,
      "outputs": []
    },
    {
      "cell_type": "code",
      "source": [
        "# zip the 20 sampled pngs (10 fps * 2 secs) and download them\n",
        "!zip -r /content/new_swing_frames.zip /content/new_swing_frames\n",
        "\n",
        "from google.colab import files\n",
        "files.download(\"/content/new_swing_frames.zip\")"
      ],
      "metadata": {
        "collapsed": true,
        "id": "XfyVcqIuKMLN"
      },
      "execution_count": null,
      "outputs": []
    },
    {
      "cell_type": "code",
      "source": [
        "#### not really using this at the moment but it can be used to update training instead of starting again\n",
        "\n",
        "# tack on updated training including the new 20 Xander bogaerts frames to see if that can predict on the remaining xander frames\n",
        "\n",
        "!pip -q install ultralytics\n",
        "from ultralytics import YOLO\n",
        "\n",
        "BEST = \"/content/drive/MyDrive/yolo_runs/hitter_seg2/weights/best.pt\"\n",
        "DATA = \"/content/drive/MyDrive/BaseballCV/Segmentation_training_clean/data.yaml\"\n",
        "\n",
        "model = YOLO(BEST)\n",
        "\n",
        "model.train(\n",
        "    data=DATA,\n",
        "    imgsz=960,\n",
        "    epochs=40,\n",
        "    batch=16,\n",
        "    lr0=5e-4,\n",
        "    patience=12,\n",
        "    device=0,\n",
        "    project=\"/content/drive/MyDrive/yolo_runs\",\n",
        "    name=\"hitter_seg_adapt\"\n",
        ")\n"
      ],
      "metadata": {
        "collapsed": true,
        "id": "c5zoRB82Iu9m"
      },
      "execution_count": null,
      "outputs": []
    }
  ]
}